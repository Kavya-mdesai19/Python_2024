{
 "cells": [
  {
   "cell_type": "markdown",
   "id": "27a4f7dd",
   "metadata": {},
   "source": [
    "# Functions "
   ]
  },
  {
   "cell_type": "code",
   "execution_count": 1,
   "id": "e9ea01f6",
   "metadata": {},
   "outputs": [],
   "source": [
    "def first_func():\n",
    "    print('Hello')"
   ]
  },
  {
   "cell_type": "code",
   "execution_count": 2,
   "id": "ab79b398",
   "metadata": {},
   "outputs": [
    {
     "name": "stdout",
     "output_type": "stream",
     "text": [
      "Hello\n"
     ]
    }
   ],
   "source": [
    "first_func()"
   ]
  },
  {
   "cell_type": "code",
   "execution_count": 3,
   "id": "40ea7b7b",
   "metadata": {},
   "outputs": [],
   "source": [
    "def number_squared(num):\n",
    "    print(num**2)"
   ]
  },
  {
   "cell_type": "code",
   "execution_count": 4,
   "id": "92ef476a",
   "metadata": {},
   "outputs": [
    {
     "name": "stdout",
     "output_type": "stream",
     "text": [
      "25\n"
     ]
    }
   ],
   "source": [
    "number_squared(5)"
   ]
  },
  {
   "cell_type": "code",
   "execution_count": 6,
   "id": "7a8d32b1",
   "metadata": {},
   "outputs": [],
   "source": [
    "def number_squared(num,power):\n",
    "    print(num**power)"
   ]
  },
  {
   "cell_type": "code",
   "execution_count": 7,
   "id": "e20963a4",
   "metadata": {},
   "outputs": [
    {
     "name": "stdout",
     "output_type": "stream",
     "text": [
      "125\n"
     ]
    }
   ],
   "source": [
    "number_squared(5,3)"
   ]
  },
  {
   "cell_type": "code",
   "execution_count": 8,
   "id": "b0089a72",
   "metadata": {},
   "outputs": [],
   "source": [
    "#arbitrary arguements - if you're not sure how many arguements need to be passed , use *."
   ]
  },
  {
   "cell_type": "code",
   "execution_count": 15,
   "id": "92501427",
   "metadata": {},
   "outputs": [
    {
     "name": "stdout",
     "output_type": "stream",
     "text": [
      "10\n"
     ]
    }
   ],
   "source": [
    "def number_args(*number):\n",
    "    print(number[0]*number[1])\n",
    "\n",
    "number_args(5,2,3,6)"
   ]
  },
  {
   "cell_type": "code",
   "execution_count": 17,
   "id": "be229eb9",
   "metadata": {
    "scrolled": false
   },
   "outputs": [
    {
     "name": "stdout",
     "output_type": "stream",
     "text": [
      "10\n"
     ]
    }
   ],
   "source": [
    "args_tuple=(5,2,3,6)\n",
    "\n",
    "def number_args(*number):\n",
    "    print(number[0]*number[1])\n",
    "\n",
    "# number_args(args_tuple)  IndexError: tuple index out of range\n",
    "number_args(*args_tuple)"
   ]
  },
  {
   "cell_type": "code",
   "execution_count": 18,
   "id": "f0044260",
   "metadata": {},
   "outputs": [],
   "source": [
    "#Keyword arguements"
   ]
  },
  {
   "cell_type": "code",
   "execution_count": 19,
   "id": "493dc5b9",
   "metadata": {},
   "outputs": [
    {
     "name": "stdout",
     "output_type": "stream",
     "text": [
      "243\n"
     ]
    }
   ],
   "source": [
    "def number_squared(num,power):\n",
    "    print(num**power)\n",
    "\n",
    "number_squared(power=5,num=3)"
   ]
  },
  {
   "cell_type": "code",
   "execution_count": 20,
   "id": "7bfa4af3",
   "metadata": {},
   "outputs": [],
   "source": [
    "#arbitrary keyword arguement - use ** if you're not sure how many arbitrary keyword you're going to use"
   ]
  },
  {
   "cell_type": "code",
   "execution_count": 22,
   "id": "1def1200",
   "metadata": {},
   "outputs": [
    {
     "name": "stdout",
     "output_type": "stream",
     "text": [
      "My number is:2309\n",
      "My other number is:1234\n"
     ]
    }
   ],
   "source": [
    "def number_kwarg(**number):\n",
    "    print('My number is:'+number['integer'] +'\\nMy other number is:'+number['integer2'])\n",
    "    \n",
    "number_kwarg(integer='2309',integer2='1234')"
   ]
  },
  {
   "cell_type": "code",
   "execution_count": null,
   "id": "b04a37e8",
   "metadata": {},
   "outputs": [],
   "source": []
  }
 ],
 "metadata": {
  "kernelspec": {
   "display_name": "Python 3 (ipykernel)",
   "language": "python",
   "name": "python3"
  },
  "language_info": {
   "codemirror_mode": {
    "name": "ipython",
    "version": 3
   },
   "file_extension": ".py",
   "mimetype": "text/x-python",
   "name": "python",
   "nbconvert_exporter": "python",
   "pygments_lexer": "ipython3",
   "version": "3.11.5"
  }
 },
 "nbformat": 4,
 "nbformat_minor": 5
}
