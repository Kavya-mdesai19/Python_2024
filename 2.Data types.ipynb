{
 "cells": [
  {
   "cell_type": "code",
   "execution_count": 6,
   "id": "ae2989ad",
   "metadata": {},
   "outputs": [
    {
     "data": {
      "text/plain": [
       "int"
      ]
     },
     "execution_count": 6,
     "metadata": {},
     "output_type": "execute_result"
    }
   ],
   "source": [
    "#Numeric data type -int,float,complex\n",
    "\n",
    "type(12+100)"
   ]
  },
  {
   "cell_type": "code",
   "execution_count": 2,
   "id": "6c24636e",
   "metadata": {},
   "outputs": [
    {
     "data": {
      "text/plain": [
       "int"
      ]
     },
     "execution_count": 2,
     "metadata": {},
     "output_type": "execute_result"
    }
   ],
   "source": [
    "type(-12+100)"
   ]
  },
  {
   "cell_type": "code",
   "execution_count": 3,
   "id": "a71319a1",
   "metadata": {},
   "outputs": [
    {
     "data": {
      "text/plain": [
       "float"
      ]
     },
     "execution_count": 3,
     "metadata": {},
     "output_type": "execute_result"
    }
   ],
   "source": [
    "type(12+10.5)"
   ]
  },
  {
   "cell_type": "code",
   "execution_count": 4,
   "id": "16bad248",
   "metadata": {},
   "outputs": [
    {
     "data": {
      "text/plain": [
       "complex"
      ]
     },
     "execution_count": 4,
     "metadata": {},
     "output_type": "execute_result"
    }
   ],
   "source": [
    "type(12+3j)"
   ]
  },
  {
   "cell_type": "code",
   "execution_count": 7,
   "id": "cdd68ca1",
   "metadata": {},
   "outputs": [
    {
     "data": {
      "text/plain": [
       "bool"
      ]
     },
     "execution_count": 7,
     "metadata": {},
     "output_type": "execute_result"
    }
   ],
   "source": [
    "#Boolean\n",
    "type(True)"
   ]
  },
  {
   "cell_type": "code",
   "execution_count": 8,
   "id": "3689ae0d",
   "metadata": {},
   "outputs": [
    {
     "data": {
      "text/plain": [
       "bool"
      ]
     },
     "execution_count": 8,
     "metadata": {},
     "output_type": "execute_result"
    }
   ],
   "source": [
    "type(False)"
   ]
  },
  {
   "cell_type": "code",
   "execution_count": 10,
   "id": "ffe8d9a5",
   "metadata": {},
   "outputs": [
    {
     "data": {
      "text/plain": [
       "True"
      ]
     },
     "execution_count": 10,
     "metadata": {},
     "output_type": "execute_result"
    }
   ],
   "source": [
    "1<2"
   ]
  },
  {
   "cell_type": "code",
   "execution_count": 9,
   "id": "b32b4020",
   "metadata": {},
   "outputs": [
    {
     "data": {
      "text/plain": [
       "bool"
      ]
     },
     "execution_count": 9,
     "metadata": {},
     "output_type": "execute_result"
    }
   ],
   "source": [
    "type(1<2)"
   ]
  },
  {
   "cell_type": "code",
   "execution_count": null,
   "id": "15bef577",
   "metadata": {},
   "outputs": [],
   "source": [
    "#Strings - Can be enclosed with in singlr,double and tripe quote"
   ]
  },
  {
   "cell_type": "code",
   "execution_count": 11,
   "id": "c879d586",
   "metadata": {},
   "outputs": [
    {
     "data": {
      "text/plain": [
       "'Single quote'"
      ]
     },
     "execution_count": 11,
     "metadata": {},
     "output_type": "execute_result"
    }
   ],
   "source": [
    "'Single quote'"
   ]
  },
  {
   "cell_type": "code",
   "execution_count": 14,
   "id": "15009b80",
   "metadata": {},
   "outputs": [
    {
     "data": {
      "text/plain": [
       "'Double quote'"
      ]
     },
     "execution_count": 14,
     "metadata": {},
     "output_type": "execute_result"
    }
   ],
   "source": [
    "\"Double quote\""
   ]
  },
  {
   "cell_type": "code",
   "execution_count": 15,
   "id": "d0e6b587",
   "metadata": {},
   "outputs": [
    {
     "data": {
      "text/plain": [
       "'Kavyshree Mutalikdesai\\nBE in Information Science,\\nDharwad\\n'"
      ]
     },
     "execution_count": 15,
     "metadata": {},
     "output_type": "execute_result"
    }
   ],
   "source": [
    "\"\"\"Kavyshree Mutalikdesai\n",
    "BE in Information Science,\n",
    "Dharwad\n",
    "\"\"\""
   ]
  },
  {
   "cell_type": "code",
   "execution_count": 16,
   "id": "35822ed1",
   "metadata": {},
   "outputs": [],
   "source": [
    "multiline=\"\"\"Kavyshree Mutalikdesai\n",
    "BE in Information Science,\n",
    "Dharwad\n",
    "\"\"\""
   ]
  },
  {
   "cell_type": "code",
   "execution_count": 17,
   "id": "9a67e939",
   "metadata": {},
   "outputs": [
    {
     "name": "stdout",
     "output_type": "stream",
     "text": [
      "Kavyshree Mutalikdesai\n",
      "BE in Information Science,\n",
      "Dharwad\n",
      "\n"
     ]
    }
   ],
   "source": [
    "print(multiline)"
   ]
  },
  {
   "cell_type": "code",
   "execution_count": 18,
   "id": "628b1c53",
   "metadata": {},
   "outputs": [
    {
     "ename": "SyntaxError",
     "evalue": "invalid syntax (2052868333.py, line 1)",
     "output_type": "error",
     "traceback": [
      "\u001b[1;36m  Cell \u001b[1;32mIn[18], line 1\u001b[1;36m\u001b[0m\n\u001b[1;33m    'I'm hungry\u001b[0m\n\u001b[1;37m       ^\u001b[0m\n\u001b[1;31mSyntaxError\u001b[0m\u001b[1;31m:\u001b[0m invalid syntax\n"
     ]
    }
   ],
   "source": [
    "'I'm hungry "
   ]
  },
  {
   "cell_type": "code",
   "execution_count": 19,
   "id": "d90fd4dc",
   "metadata": {},
   "outputs": [
    {
     "data": {
      "text/plain": [
       "\"I'm hungry\""
      ]
     },
     "execution_count": 19,
     "metadata": {},
     "output_type": "execute_result"
    }
   ],
   "source": [
    "#Resolving above error\n",
    "\"I'm hungry\""
   ]
  },
  {
   "cell_type": "code",
   "execution_count": 20,
   "id": "0ae8aaf2",
   "metadata": {},
   "outputs": [
    {
     "data": {
      "text/plain": [
       "str"
      ]
     },
     "execution_count": 20,
     "metadata": {},
     "output_type": "execute_result"
    }
   ],
   "source": [
    "type(multiline)"
   ]
  },
  {
   "cell_type": "code",
   "execution_count": 21,
   "id": "03014aef",
   "metadata": {},
   "outputs": [],
   "source": [
    "a='Hello World'"
   ]
  },
  {
   "cell_type": "code",
   "execution_count": 28,
   "id": "2532da0a",
   "metadata": {},
   "outputs": [
    {
     "name": "stdout",
     "output_type": "stream",
     "text": [
      "Hello Wo\n"
     ]
    }
   ],
   "source": [
    "print(a[:8])   # starting from 0th index till 7th index"
   ]
  },
  {
   "cell_type": "code",
   "execution_count": 26,
   "id": "c796be82",
   "metadata": {},
   "outputs": [
    {
     "name": "stdout",
     "output_type": "stream",
     "text": [
      "W\n"
     ]
    }
   ],
   "source": [
    "print(a[6])  # 6th index"
   ]
  },
  {
   "cell_type": "code",
   "execution_count": 27,
   "id": "bfadaaa5",
   "metadata": {},
   "outputs": [
    {
     "name": "stdout",
     "output_type": "stream",
     "text": [
      "r\n"
     ]
    }
   ],
   "source": [
    "print(a[-3])   # 2nd index from right to left"
   ]
  },
  {
   "cell_type": "code",
   "execution_count": 29,
   "id": "ebd461a6",
   "metadata": {},
   "outputs": [
    {
     "name": "stdout",
     "output_type": "stream",
     "text": [
      "llo\n"
     ]
    }
   ],
   "source": [
    "print(a[2:5])  # start val =2 ,end value =4"
   ]
  },
  {
   "cell_type": "code",
   "execution_count": 30,
   "id": "d30d06b7",
   "metadata": {},
   "outputs": [
    {
     "data": {
      "text/plain": [
       "'Hello WorldHello WorldHello World'"
      ]
     },
     "execution_count": 30,
     "metadata": {},
     "output_type": "execute_result"
    }
   ],
   "source": [
    "a*3"
   ]
  },
  {
   "cell_type": "code",
   "execution_count": 31,
   "id": "7ea25f22",
   "metadata": {},
   "outputs": [
    {
     "data": {
      "text/plain": [
       "'Hello WorldHello World'"
      ]
     },
     "execution_count": 31,
     "metadata": {},
     "output_type": "execute_result"
    }
   ],
   "source": [
    "a+a"
   ]
  },
  {
   "cell_type": "code",
   "execution_count": 43,
   "id": "3fce00fe",
   "metadata": {},
   "outputs": [
    {
     "data": {
      "text/plain": [
       "[1, 2, 3]"
      ]
     },
     "execution_count": 43,
     "metadata": {},
     "output_type": "execute_result"
    }
   ],
   "source": [
    "#Lists  [] - mutable - can be modified\n",
    "[1,2,3]"
   ]
  },
  {
   "cell_type": "code",
   "execution_count": 32,
   "id": "a433f0d3",
   "metadata": {},
   "outputs": [
    {
     "data": {
      "text/plain": [
       "['Kavya', 'Mutalik', 'Desai']"
      ]
     },
     "execution_count": 32,
     "metadata": {},
     "output_type": "execute_result"
    }
   ],
   "source": [
    "['Kavya','Mutalik','Desai']"
   ]
  },
  {
   "cell_type": "code",
   "execution_count": 33,
   "id": "fa1672ab",
   "metadata": {},
   "outputs": [],
   "source": [
    "a=['Kavya',123,['abc','xyz'],True,12.5]"
   ]
  },
  {
   "cell_type": "code",
   "execution_count": 34,
   "id": "f83afcfc",
   "metadata": {},
   "outputs": [
    {
     "name": "stdout",
     "output_type": "stream",
     "text": [
      "['Kavya', 123, ['abc', 'xyz'], True, 12.5]\n"
     ]
    }
   ],
   "source": [
    "print(a)"
   ]
  },
  {
   "cell_type": "code",
   "execution_count": 35,
   "id": "79d79067",
   "metadata": {},
   "outputs": [
    {
     "data": {
      "text/plain": [
       "['Kavya', 'Mutalik', 'Desai', 'Dharwad']"
      ]
     },
     "execution_count": 35,
     "metadata": {},
     "output_type": "execute_result"
    }
   ],
   "source": [
    "name=['Kavya','Mutalik','Desai']\n",
    "name.append('Dharwad')          #adding value to list\n",
    "name"
   ]
  },
  {
   "cell_type": "code",
   "execution_count": 36,
   "id": "ffdd7d90",
   "metadata": {},
   "outputs": [],
   "source": [
    "name[0]='Kavyashree'"
   ]
  },
  {
   "cell_type": "code",
   "execution_count": 37,
   "id": "ba932125",
   "metadata": {},
   "outputs": [
    {
     "data": {
      "text/plain": [
       "['Kavyashree', 'Mutalik', 'Desai', 'Dharwad']"
      ]
     },
     "execution_count": 37,
     "metadata": {},
     "output_type": "execute_result"
    }
   ],
   "source": [
    "name"
   ]
  },
  {
   "cell_type": "code",
   "execution_count": 38,
   "id": "f4183a6f",
   "metadata": {},
   "outputs": [],
   "source": [
    "nested_list=['Kavya',123,['abc','xyz'],True,12.5]"
   ]
  },
  {
   "cell_type": "code",
   "execution_count": 39,
   "id": "00b93947",
   "metadata": {},
   "outputs": [
    {
     "data": {
      "text/plain": [
       "['abc', 'xyz']"
      ]
     },
     "execution_count": 39,
     "metadata": {},
     "output_type": "execute_result"
    }
   ],
   "source": [
    "nested_list[2]"
   ]
  },
  {
   "cell_type": "code",
   "execution_count": 40,
   "id": "bc5b5f18",
   "metadata": {},
   "outputs": [
    {
     "data": {
      "text/plain": [
       "'xyz'"
      ]
     },
     "execution_count": 40,
     "metadata": {},
     "output_type": "execute_result"
    }
   ],
   "source": [
    "nested_list[2][1]"
   ]
  },
  {
   "cell_type": "code",
   "execution_count": null,
   "id": "86adb8ca",
   "metadata": {},
   "outputs": [],
   "source": [
    "#tuples () - can't be modified (immutable)\n",
    "#Can be used when data is not going to change."
   ]
  },
  {
   "cell_type": "code",
   "execution_count": 41,
   "id": "30714241",
   "metadata": {},
   "outputs": [
    {
     "data": {
      "text/plain": [
       "tuple"
      ]
     },
     "execution_count": 41,
     "metadata": {},
     "output_type": "execute_result"
    }
   ],
   "source": [
    "tup=(1,2,3,2,1)\n",
    "type(tup)"
   ]
  },
  {
   "cell_type": "code",
   "execution_count": 42,
   "id": "0af20d94",
   "metadata": {},
   "outputs": [
    {
     "data": {
      "text/plain": [
       "1"
      ]
     },
     "execution_count": 42,
     "metadata": {},
     "output_type": "execute_result"
    }
   ],
   "source": [
    "tup[0]"
   ]
  },
  {
   "cell_type": "code",
   "execution_count": null,
   "id": "7853c42c",
   "metadata": {},
   "outputs": [],
   "source": [
    "tup.append(0)  --> operation like adding or deleting data is not possible"
   ]
  },
  {
   "cell_type": "code",
   "execution_count": null,
   "id": "1bd36f79",
   "metadata": {},
   "outputs": [],
   "source": [
    "#sets \n",
    "#These are unordered so sets won't be having any index.\n",
    "#can be accessed through for loop\n"
   ]
  },
  {
   "cell_type": "code",
   "execution_count": 44,
   "id": "2faebe08",
   "metadata": {},
   "outputs": [],
   "source": [
    "num={1,2,3}"
   ]
  },
  {
   "cell_type": "code",
   "execution_count": 45,
   "id": "c1ac2612",
   "metadata": {},
   "outputs": [
    {
     "data": {
      "text/plain": [
       "set"
      ]
     },
     "execution_count": 45,
     "metadata": {},
     "output_type": "execute_result"
    }
   ],
   "source": [
    "type(num)"
   ]
  },
  {
   "cell_type": "code",
   "execution_count": 46,
   "id": "d76d3df0",
   "metadata": {},
   "outputs": [
    {
     "name": "stdout",
     "output_type": "stream",
     "text": [
      "{1, 2, 3}\n"
     ]
    }
   ],
   "source": [
    "print(num)"
   ]
  },
  {
   "cell_type": "code",
   "execution_count": 47,
   "id": "f7137902",
   "metadata": {},
   "outputs": [],
   "source": [
    "num_dups={1,2,3,4,2,3,4,6,5,7,8,9,1,2}"
   ]
  },
  {
   "cell_type": "code",
   "execution_count": 48,
   "id": "b1e7fa1b",
   "metadata": {},
   "outputs": [
    {
     "name": "stdout",
     "output_type": "stream",
     "text": [
      "{1, 2, 3, 4, 5, 6, 7, 8, 9}\n"
     ]
    }
   ],
   "source": [
    "print(num_dups)   #only unique values are printed"
   ]
  },
  {
   "cell_type": "code",
   "execution_count": 49,
   "id": "0eafba7f",
   "metadata": {},
   "outputs": [],
   "source": [
    "set1 = {1,2,3,2,4,5,3,4,6,78,67,9,8,7,4}\n",
    "set2 ={2,1,3,2,34,5,6,67,34,8,9,6,7,56,12}"
   ]
  },
  {
   "cell_type": "code",
   "execution_count": 52,
   "id": "a7f62029",
   "metadata": {},
   "outputs": [
    {
     "name": "stdout",
     "output_type": "stream",
     "text": [
      "{1, 2, 3, 4, 5, 6, 67, 8, 9, 7, 12, 78, 34, 56}\n"
     ]
    }
   ],
   "source": [
    "print(set1|set2)  # printing unique vals from both set1 and set2"
   ]
  },
  {
   "cell_type": "code",
   "execution_count": 53,
   "id": "9bb3d9fd",
   "metadata": {},
   "outputs": [
    {
     "name": "stdout",
     "output_type": "stream",
     "text": [
      "{1, 2, 3, 67, 5, 6, 7, 8, 9}\n"
     ]
    }
   ],
   "source": [
    "print(set1&set2)  # printing common vals from both set1 and set2"
   ]
  },
  {
   "cell_type": "code",
   "execution_count": 54,
   "id": "09d1e08e",
   "metadata": {},
   "outputs": [
    {
     "name": "stdout",
     "output_type": "stream",
     "text": [
      "{4, 78}\n"
     ]
    }
   ],
   "source": [
    "print(set1-set2)  "
   ]
  },
  {
   "cell_type": "code",
   "execution_count": 56,
   "id": "7f39d2fa",
   "metadata": {},
   "outputs": [
    {
     "name": "stdout",
     "output_type": "stream",
     "text": [
      "{1, 2, 3, 67, 5, 6, 7, 8, 9, 4, 12, 78, 34, 56}\n"
     ]
    }
   ],
   "source": [
    "print(set2|set1)  "
   ]
  },
  {
   "cell_type": "code",
   "execution_count": 58,
   "id": "2d4ca147",
   "metadata": {},
   "outputs": [
    {
     "name": "stdout",
     "output_type": "stream",
     "text": [
      "{34, 4, 12, 78, 56}\n"
     ]
    }
   ],
   "source": [
    "print(set2^set1)  # Values that are unique to each of the sets"
   ]
  },
  {
   "cell_type": "code",
   "execution_count": 59,
   "id": "ee00c30f",
   "metadata": {},
   "outputs": [],
   "source": [
    "#Dictionaries {} - will be having key/value pair\n",
    "#Accessing values through index or [0] doesn't work.Need to specify the key values\n",
    "\n",
    "dict_ice_cream={'name':'Kavya','Weekly intake':1,'favorite':['Chocolate','Kulfi']}"
   ]
  },
  {
   "cell_type": "code",
   "execution_count": 60,
   "id": "118bff86",
   "metadata": {},
   "outputs": [
    {
     "data": {
      "text/plain": [
       "dict"
      ]
     },
     "execution_count": 60,
     "metadata": {},
     "output_type": "execute_result"
    }
   ],
   "source": [
    "type(dict_ice_cream)"
   ]
  },
  {
   "cell_type": "code",
   "execution_count": 61,
   "id": "016e4558",
   "metadata": {},
   "outputs": [
    {
     "name": "stdout",
     "output_type": "stream",
     "text": [
      "{'name': 'Kavya', 'Weekly intake': 1, 'favorite': ['Chocolate', 'Kulfi']}\n"
     ]
    }
   ],
   "source": [
    "print(dict_ice_cream)"
   ]
  },
  {
   "cell_type": "code",
   "execution_count": 62,
   "id": "ceb205ce",
   "metadata": {},
   "outputs": [
    {
     "data": {
      "text/plain": [
       "dict_keys(['name', 'Weekly intake', 'favorite'])"
      ]
     },
     "execution_count": 62,
     "metadata": {},
     "output_type": "execute_result"
    }
   ],
   "source": [
    "dict_ice_cream.keys()"
   ]
  },
  {
   "cell_type": "code",
   "execution_count": 63,
   "id": "485c0271",
   "metadata": {},
   "outputs": [
    {
     "data": {
      "text/plain": [
       "dict_values(['Kavya', 1, ['Chocolate', 'Kulfi']])"
      ]
     },
     "execution_count": 63,
     "metadata": {},
     "output_type": "execute_result"
    }
   ],
   "source": [
    "dict_ice_cream.values()"
   ]
  },
  {
   "cell_type": "code",
   "execution_count": 64,
   "id": "91e2f45a",
   "metadata": {},
   "outputs": [
    {
     "data": {
      "text/plain": [
       "dict_items([('name', 'Kavya'), ('Weekly intake', 1), ('favorite', ['Chocolate', 'Kulfi'])])"
      ]
     },
     "execution_count": 64,
     "metadata": {},
     "output_type": "execute_result"
    }
   ],
   "source": [
    "dict_ice_cream.items()"
   ]
  },
  {
   "cell_type": "code",
   "execution_count": 66,
   "id": "0346718e",
   "metadata": {},
   "outputs": [
    {
     "data": {
      "text/plain": [
       "'Kavya'"
      ]
     },
     "execution_count": 66,
     "metadata": {},
     "output_type": "execute_result"
    }
   ],
   "source": [
    "#Accessing the elements\n",
    "dict_ice_cream['name']"
   ]
  },
  {
   "cell_type": "code",
   "execution_count": 68,
   "id": "5fc134c0",
   "metadata": {},
   "outputs": [
    {
     "name": "stdout",
     "output_type": "stream",
     "text": [
      "{'name': 'Kavyashree', 'Weekly intake': 1, 'favorite': ['Chocolate', 'Kulfi']}\n"
     ]
    }
   ],
   "source": [
    "#Updating dictionary value\n",
    "\n",
    "dict_ice_cream['name']='Kavyashree'\n",
    "print(dict_ice_cream)"
   ]
  },
  {
   "cell_type": "code",
   "execution_count": 70,
   "id": "1ff67a74",
   "metadata": {},
   "outputs": [
    {
     "name": "stdout",
     "output_type": "stream",
     "text": [
      "{'name': 'Kavs', 'Weekly intake': 5, 'favorite': ['Chocolate', 'Kulfi']}\n"
     ]
    }
   ],
   "source": [
    "# updating multiple dictionary values at once \n",
    "\n",
    "dict_ice_cream.update({'name':'Kavs','Weekly intake':5,'favorite':['Chocolate','Kulfi']})\n",
    "print(dict_ice_cream)"
   ]
  },
  {
   "cell_type": "code",
   "execution_count": 71,
   "id": "a0382157",
   "metadata": {},
   "outputs": [
    {
     "name": "stdout",
     "output_type": "stream",
     "text": [
      "{'name': 'Kavs', 'Weekly intake': 5, 'favorite': ['Chocolate', 'Kulfi'], 'Weight': 55}\n"
     ]
    }
   ],
   "source": [
    "#Note : If key/value that is not present in dictionary will be automatically addes at the end of dictionary\n",
    "\n",
    "dict_ice_cream.update({'name':'Kavs','Weekly intake':5,'Weight':55})\n",
    "print(dict_ice_cream)"
   ]
  },
  {
   "cell_type": "code",
   "execution_count": 74,
   "id": "49de9d9b",
   "metadata": {},
   "outputs": [
    {
     "name": "stdout",
     "output_type": "stream",
     "text": [
      "{'name': 'Kavs', 'Weekly intake': 5, 'favorite': ['Chocolate', 'Kulfi']}\n"
     ]
    }
   ],
   "source": [
    "#deleting key/values from dictionary\n",
    "\n",
    "del dict_ice_cream['Weight']\n",
    "print(dict_ice_cream)"
   ]
  },
  {
   "cell_type": "code",
   "execution_count": null,
   "id": "63a3d2c0",
   "metadata": {},
   "outputs": [],
   "source": []
  },
  {
   "cell_type": "code",
   "execution_count": null,
   "id": "861d89fb",
   "metadata": {},
   "outputs": [],
   "source": []
  },
  {
   "cell_type": "code",
   "execution_count": null,
   "id": "b2578b97",
   "metadata": {},
   "outputs": [],
   "source": []
  },
  {
   "cell_type": "code",
   "execution_count": null,
   "id": "07cdfffd",
   "metadata": {},
   "outputs": [],
   "source": []
  },
  {
   "cell_type": "code",
   "execution_count": null,
   "id": "32a88dda",
   "metadata": {},
   "outputs": [],
   "source": []
  },
  {
   "cell_type": "code",
   "execution_count": null,
   "id": "683873ee",
   "metadata": {},
   "outputs": [],
   "source": []
  },
  {
   "cell_type": "code",
   "execution_count": null,
   "id": "af15d27d",
   "metadata": {},
   "outputs": [],
   "source": []
  },
  {
   "cell_type": "code",
   "execution_count": null,
   "id": "81d8d36f",
   "metadata": {},
   "outputs": [],
   "source": []
  }
 ],
 "metadata": {
  "kernelspec": {
   "display_name": "Python 3 (ipykernel)",
   "language": "python",
   "name": "python3"
  },
  "language_info": {
   "codemirror_mode": {
    "name": "ipython",
    "version": 3
   },
   "file_extension": ".py",
   "mimetype": "text/x-python",
   "name": "python",
   "nbconvert_exporter": "python",
   "pygments_lexer": "ipython3",
   "version": "3.11.5"
  }
 },
 "nbformat": 4,
 "nbformat_minor": 5
}
