{
 "cells": [
  {
   "cell_type": "code",
   "execution_count": null,
   "id": "1788ee9c",
   "metadata": {},
   "outputs": [],
   "source": [
    "# For loop"
   ]
  },
  {
   "cell_type": "code",
   "execution_count": 1,
   "id": "400528a9",
   "metadata": {},
   "outputs": [
    {
     "name": "stdout",
     "output_type": "stream",
     "text": [
      "1\n",
      "2\n",
      "3\n",
      "4\n",
      "5\n"
     ]
    }
   ],
   "source": [
    "numbers=[1,2,3,4,5]\n",
    "for i in numbers:\n",
    "    print(i)"
   ]
  },
  {
   "cell_type": "code",
   "execution_count": 4,
   "id": "fc469185",
   "metadata": {},
   "outputs": [
    {
     "name": "stdout",
     "output_type": "stream",
     "text": [
      "2\n",
      "3\n",
      "4\n",
      "5\n",
      "6\n"
     ]
    }
   ],
   "source": [
    "numbers=[1,2,3,4,5]\n",
    "for i in numbers:\n",
    "    print(i+1)"
   ]
  },
  {
   "cell_type": "code",
   "execution_count": null,
   "id": "da755659",
   "metadata": {},
   "outputs": [],
   "source": [
    "# For loop for dictionary"
   ]
  },
  {
   "cell_type": "code",
   "execution_count": 7,
   "id": "f4f4e49e",
   "metadata": {},
   "outputs": [],
   "source": [
    "dictionary={'a':1,'b':2.5,'c':\"Kavya\",'d':['x','y']}"
   ]
  },
  {
   "cell_type": "code",
   "execution_count": 8,
   "id": "ab045c9a",
   "metadata": {},
   "outputs": [
    {
     "name": "stdout",
     "output_type": "stream",
     "text": [
      "1\n",
      "2.5\n",
      "Kavya\n",
      "['x', 'y']\n"
     ]
    }
   ],
   "source": [
    "for i in dictionary.values():\n",
    "    print(i)"
   ]
  },
  {
   "cell_type": "code",
   "execution_count": 9,
   "id": "48d908d1",
   "metadata": {},
   "outputs": [
    {
     "name": "stdout",
     "output_type": "stream",
     "text": [
      "a\n",
      "b\n",
      "c\n",
      "d\n"
     ]
    }
   ],
   "source": [
    "for i in dictionary.keys():\n",
    "    print(i)"
   ]
  },
  {
   "cell_type": "code",
   "execution_count": 11,
   "id": "0f813899",
   "metadata": {},
   "outputs": [
    {
     "name": "stdout",
     "output_type": "stream",
     "text": [
      "a -> 1\n",
      "b -> 2.5\n",
      "c -> Kavya\n",
      "d -> ['x', 'y']\n"
     ]
    }
   ],
   "source": [
    "for keys,values in dictionary.items():\n",
    "    print(keys,'->',values)"
   ]
  },
  {
   "cell_type": "code",
   "execution_count": null,
   "id": "06ea894a",
   "metadata": {},
   "outputs": [],
   "source": [
    "#Nested for loop"
   ]
  },
  {
   "cell_type": "code",
   "execution_count": 12,
   "id": "b4effbc5",
   "metadata": {},
   "outputs": [
    {
     "name": "stdout",
     "output_type": "stream",
     "text": [
      "a 1\n",
      "a 2\n",
      "a 3\n",
      "a 4\n",
      "a 5\n",
      "b 1\n",
      "b 2\n",
      "b 3\n",
      "b 4\n",
      "b 5\n",
      "c 1\n",
      "c 2\n",
      "c 3\n",
      "c 4\n",
      "c 5\n"
     ]
    }
   ],
   "source": [
    "alphabets=['a','b','c']\n",
    "numbers=[1,2,3,4,5]\n",
    "\n",
    "for a in alphabets:\n",
    "    for n in numbers:\n",
    "        print(a,n)"
   ]
  },
  {
   "cell_type": "code",
   "execution_count": null,
   "id": "785cae2f",
   "metadata": {},
   "outputs": [],
   "source": []
  }
 ],
 "metadata": {
  "kernelspec": {
   "display_name": "Python 3 (ipykernel)",
   "language": "python",
   "name": "python3"
  },
  "language_info": {
   "codemirror_mode": {
    "name": "ipython",
    "version": 3
   },
   "file_extension": ".py",
   "mimetype": "text/x-python",
   "name": "python",
   "nbconvert_exporter": "python",
   "pygments_lexer": "ipython3",
   "version": "3.11.5"
  }
 },
 "nbformat": 4,
 "nbformat_minor": 5
}
