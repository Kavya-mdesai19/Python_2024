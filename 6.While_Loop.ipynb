{
 "cells": [
  {
   "cell_type": "markdown",
   "id": "0d01f430",
   "metadata": {},
   "source": [
    "# While loop"
   ]
  },
  {
   "cell_type": "code",
   "execution_count": 2,
   "id": "770b5465",
   "metadata": {},
   "outputs": [
    {
     "name": "stdout",
     "output_type": "stream",
     "text": [
      "0\n",
      "1\n",
      "2\n",
      "3\n",
      "4\n"
     ]
    }
   ],
   "source": [
    "n=0\n",
    "while n<5:\n",
    "    print(n)\n",
    "    n=n+1"
   ]
  },
  {
   "cell_type": "code",
   "execution_count": 5,
   "id": "eda3e1a0",
   "metadata": {},
   "outputs": [],
   "source": [
    "#Using break statement"
   ]
  },
  {
   "cell_type": "code",
   "execution_count": 3,
   "id": "3f1c0b91",
   "metadata": {},
   "outputs": [
    {
     "name": "stdout",
     "output_type": "stream",
     "text": [
      "0\n",
      "1\n",
      "2\n",
      "3\n"
     ]
    }
   ],
   "source": [
    "n=0\n",
    "while n<5:\n",
    "    print(n)\n",
    "    if n==3:\n",
    "        break\n",
    "    n=n+1"
   ]
  },
  {
   "cell_type": "code",
   "execution_count": 4,
   "id": "da0a280d",
   "metadata": {},
   "outputs": [],
   "source": [
    "#using break and else statement"
   ]
  },
  {
   "cell_type": "code",
   "execution_count": 6,
   "id": "bd7c3f9b",
   "metadata": {},
   "outputs": [
    {
     "name": "stdout",
     "output_type": "stream",
     "text": [
      "0\n",
      "1\n",
      "2\n",
      "3\n",
      "4\n",
      "No longer <5\n"
     ]
    }
   ],
   "source": [
    "n=0\n",
    "while n<5:\n",
    "    print(n)\n",
    "    if n==6:\n",
    "        break\n",
    "    n=n+1\n",
    "else:                        #else statement is executed once while condition doesn't match condition and comes out of loop\n",
    "    print('No longer <5')"
   ]
  },
  {
   "cell_type": "code",
   "execution_count": 8,
   "id": "32bca41a",
   "metadata": {},
   "outputs": [
    {
     "name": "stdout",
     "output_type": "stream",
     "text": [
      "0\n",
      "1\n",
      "2\n",
      "3\n"
     ]
    }
   ],
   "source": [
    "n=0\n",
    "while n<5:\n",
    "    print(n)\n",
    "    if n==3:\n",
    "        break\n",
    "    n=n+1\n",
    "else:                         #else statement is nor executed as it came out of loop because of break statement\n",
    "    print('No longer <5')"
   ]
  },
  {
   "cell_type": "code",
   "execution_count": null,
   "id": "87a5ee33",
   "metadata": {},
   "outputs": [],
   "source": [
    "#using continue and else statement\n",
    "#Continue - will skip the follwing set of code in python"
   ]
  },
  {
   "cell_type": "code",
   "execution_count": null,
   "id": "5b00dc7e",
   "metadata": {},
   "outputs": [],
   "source": [
    "n=0\n",
    "while n<5:\n",
    "    print(n)\n",
    "    if n==3:\n",
    "        continue\n",
    "    n=n+1 #n=3 won't be updated as continue will skip the next code and start while loop again.This will result in infinite loop\n",
    "else:                         \n",
    "    print('No longer <5')"
   ]
  },
  {
   "cell_type": "code",
   "execution_count": 9,
   "id": "8ce574a1",
   "metadata": {},
   "outputs": [
    {
     "name": "stdout",
     "output_type": "stream",
     "text": [
      "1\n",
      "2\n",
      "4\n",
      "5\n",
      "No longer <5\n"
     ]
    }
   ],
   "source": [
    "n=0\n",
    "while n<5:\n",
    "    n=n+1\n",
    "    if n==3: # when n=3 the following code is skipped and while loop started with n=4, so 3 is not printed\n",
    "        continue\n",
    "    print(n)\n",
    "else:                         \n",
    "    print('No longer <5')"
   ]
  },
  {
   "cell_type": "code",
   "execution_count": null,
   "id": "2cf98e49",
   "metadata": {},
   "outputs": [],
   "source": []
  },
  {
   "cell_type": "code",
   "execution_count": null,
   "id": "d27e7f83",
   "metadata": {},
   "outputs": [],
   "source": []
  }
 ],
 "metadata": {
  "kernelspec": {
   "display_name": "Python 3 (ipykernel)",
   "language": "python",
   "name": "python3"
  },
  "language_info": {
   "codemirror_mode": {
    "name": "ipython",
    "version": 3
   },
   "file_extension": ".py",
   "mimetype": "text/x-python",
   "name": "python",
   "nbconvert_exporter": "python",
   "pygments_lexer": "ipython3",
   "version": "3.11.5"
  }
 },
 "nbformat": 4,
 "nbformat_minor": 5
}
