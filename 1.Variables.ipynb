{
 "cells": [
  {
   "cell_type": "code",
   "execution_count": 1,
   "id": "319a174f",
   "metadata": {},
   "outputs": [
    {
     "name": "stdout",
     "output_type": "stream",
     "text": [
      "12\n"
     ]
    },
    {
     "data": {
      "text/plain": [
       "int"
      ]
     },
     "execution_count": 1,
     "metadata": {},
     "output_type": "execute_result"
    }
   ],
   "source": [
    "x=12\n",
    "print(x)\n",
    "type(x)"
   ]
  },
  {
   "cell_type": "code",
   "execution_count": 2,
   "id": "9a0ccd17",
   "metadata": {},
   "outputs": [
    {
     "name": "stdout",
     "output_type": "stream",
     "text": [
      "Mint chocolate\n"
     ]
    },
    {
     "data": {
      "text/plain": [
       "str"
      ]
     },
     "execution_count": 2,
     "metadata": {},
     "output_type": "execute_result"
    }
   ],
   "source": [
    "y='Mint chocolate'\n",
    "print(y)\n",
    "type(y)"
   ]
  },
  {
   "cell_type": "code",
   "execution_count": 3,
   "id": "49531b9f",
   "metadata": {},
   "outputs": [
    {
     "name": "stdout",
     "output_type": "stream",
     "text": [
      "Mint chocolate\n"
     ]
    }
   ],
   "source": [
    "#Case sensitive\n",
    "y='Mint chocolate'\n",
    "y='Ice cream'     # y value is reassigned here\n",
    "Y='Chocolate'\n",
    "print(y)\n"
   ]
  },
  {
   "cell_type": "code",
   "execution_count": 4,
   "id": "733add6a",
   "metadata": {},
   "outputs": [
    {
     "name": "stdout",
     "output_type": "stream",
     "text": [
      "Kavya\n",
      "Mutalik\n",
      "Desai\n"
     ]
    }
   ],
   "source": [
    "#Assigning multiple values at once\n",
    "x,y,z='Kavya','Mutalik','Desai'\n",
    "print(x)\n",
    "print(y)\n",
    "print(z)"
   ]
  },
  {
   "cell_type": "code",
   "execution_count": 5,
   "id": "01514f0e",
   "metadata": {},
   "outputs": [
    {
     "name": "stdout",
     "output_type": "stream",
     "text": [
      "Kavya\n",
      "Kavya\n",
      "Kavya\n"
     ]
    }
   ],
   "source": [
    "#Assigning multiple variables to same value\n",
    "x=y=z='Kavya'\n",
    "print(x)\n",
    "print(y)\n",
    "print(z)"
   ]
  },
  {
   "cell_type": "code",
   "execution_count": 6,
   "id": "9e3bcade",
   "metadata": {},
   "outputs": [
    {
     "name": "stdout",
     "output_type": "stream",
     "text": [
      "Kavya\n",
      "Mutalik\n",
      "Desai\n"
     ]
    }
   ],
   "source": [
    "#LISTS\n",
    "Name=['Kavya','Mutalik','Desai']\n",
    "x,y,z=Name\n",
    "print(x)\n",
    "print(y)\n",
    "print(z)"
   ]
  },
  {
   "cell_type": "code",
   "execution_count": null,
   "id": "e96be439",
   "metadata": {},
   "outputs": [],
   "source": [
    "#Different ways of writing variable\n",
    "\n",
    "#Camel case\n",
    "\n",
    "#Test variable case\n",
    "\n",
    "testVariableCase='Kavyashree Mutalikdesai'"
   ]
  },
  {
   "cell_type": "code",
   "execution_count": null,
   "id": "59237007",
   "metadata": {},
   "outputs": [],
   "source": [
    "#Pascal case\n",
    "\n",
    "#Test variable case\n",
    "\n",
    "TestVariableCase='Kavyashree Mutalikdesai'"
   ]
  },
  {
   "cell_type": "code",
   "execution_count": null,
   "id": "90f5f080",
   "metadata": {},
   "outputs": [],
   "source": [
    "#Snake case\n",
    "\n",
    "#Test variable case\n",
    "\n",
    "test_Variable_Case='Kavyashree Mutalikdesai'"
   ]
  },
  {
   "cell_type": "code",
   "execution_count": null,
   "id": "dab53430",
   "metadata": {},
   "outputs": [],
   "source": [
    "#variables naming standard\n"
   ]
  },
  {
   "cell_type": "code",
   "execution_count": null,
   "id": "f12a2b4a",
   "metadata": {},
   "outputs": [],
   "source": [
    "testvar='Kavyashree Mutalikdesai'\n",
    "test_Var='Kavyashree Mutalikdesai'\n",
    "_testVar='Kavyashree Mutalikdesai'\n",
    "testVar='Kavyashree Mutalikdesai'\n",
    "TestVar='Kavyashree Mutalikdesai'\n",
    "testVar2='Kavyashree Mutalikdesai'"
   ]
  },
  {
   "cell_type": "code",
   "execution_count": null,
   "id": "bf0f307f",
   "metadata": {},
   "outputs": [],
   "source": [
    "#Not allowed\n",
    "2testVar='Kavyashree Mutalikdesai'\n",
    "tes-tVar='Kavyashree Mutalikdesai'\n",
    "test Var='Kavyashree Mutalikdesai'\n",
    "test,Var='Kavyashree Mutalikdesai'# not all special characters are allowed"
   ]
  },
  {
   "cell_type": "code",
   "execution_count": 7,
   "id": "6848ce17",
   "metadata": {},
   "outputs": [
    {
     "name": "stdout",
     "output_type": "stream",
     "text": [
      "Ice cream is my favourite\n"
     ]
    }
   ],
   "source": [
    "#Assigning string\n",
    "x='Ice cream is my favourite'\n",
    "print(x)"
   ]
  },
  {
   "cell_type": "code",
   "execution_count": 8,
   "id": "4f44ed06",
   "metadata": {},
   "outputs": [
    {
     "name": "stdout",
     "output_type": "stream",
     "text": [
      "5\n"
     ]
    }
   ],
   "source": [
    "y=3+2\n",
    "print(y)"
   ]
  },
  {
   "cell_type": "code",
   "execution_count": 9,
   "id": "4652412e",
   "metadata": {},
   "outputs": [
    {
     "ename": "TypeError",
     "evalue": "can only concatenate str (not \"int\") to str",
     "output_type": "error",
     "traceback": [
      "\u001b[1;31m---------------------------------------------------------------------------\u001b[0m",
      "\u001b[1;31mTypeError\u001b[0m                                 Traceback (most recent call last)",
      "Cell \u001b[1;32mIn[9], line 1\u001b[0m\n\u001b[1;32m----> 1\u001b[0m z\u001b[38;5;241m=\u001b[39m\u001b[38;5;124m'\u001b[39m\u001b[38;5;124mIce cream is my favourite\u001b[39m\u001b[38;5;124m'\u001b[39m\u001b[38;5;241m+\u001b[39m\u001b[38;5;241m2\u001b[39m\n",
      "\u001b[1;31mTypeError\u001b[0m: can only concatenate str (not \"int\") to str"
     ]
    }
   ],
   "source": [
    "z='Ice cream is my favourite'+2  #Can't concatenate string and number"
   ]
  },
  {
   "cell_type": "code",
   "execution_count": 10,
   "id": "cc06bab8",
   "metadata": {},
   "outputs": [
    {
     "name": "stdout",
     "output_type": "stream",
     "text": [
      "Ice cream is my favourite\n"
     ]
    }
   ],
   "source": [
    "x='Ice cream'\n",
    "y=' is'\n",
    "z=' my favourite'\n",
    "print(x+y+z)"
   ]
  },
  {
   "cell_type": "code",
   "execution_count": 11,
   "id": "9f32df48",
   "metadata": {},
   "outputs": [
    {
     "name": "stdout",
     "output_type": "stream",
     "text": [
      "6\n"
     ]
    }
   ],
   "source": [
    "x=1\n",
    "y=2\n",
    "z=3\n",
    "print(x+y+z)"
   ]
  },
  {
   "cell_type": "code",
   "execution_count": 12,
   "id": "2670ea02",
   "metadata": {},
   "outputs": [
    {
     "ename": "TypeError",
     "evalue": "can only concatenate str (not \"int\") to str",
     "output_type": "error",
     "traceback": [
      "\u001b[1;31m---------------------------------------------------------------------------\u001b[0m",
      "\u001b[1;31mTypeError\u001b[0m                                 Traceback (most recent call last)",
      "Cell \u001b[1;32mIn[12], line 3\u001b[0m\n\u001b[0;32m      1\u001b[0m x\u001b[38;5;241m=\u001b[39m\u001b[38;5;124m'\u001b[39m\u001b[38;5;124mKavya\u001b[39m\u001b[38;5;124m'\u001b[39m\n\u001b[0;32m      2\u001b[0m y\u001b[38;5;241m=\u001b[39m\u001b[38;5;241m2\u001b[39m\n\u001b[1;32m----> 3\u001b[0m \u001b[38;5;28mprint\u001b[39m(x\u001b[38;5;241m+\u001b[39my)\n",
      "\u001b[1;31mTypeError\u001b[0m: can only concatenate str (not \"int\") to str"
     ]
    }
   ],
   "source": [
    "x='Kavya'\n",
    "y=2\n",
    "print(x+y)"
   ]
  },
  {
   "cell_type": "code",
   "execution_count": 13,
   "id": "f6a1f8eb",
   "metadata": {},
   "outputs": [
    {
     "name": "stdout",
     "output_type": "stream",
     "text": [
      "Kavya 2\n"
     ]
    }
   ],
   "source": [
    "x='Kavya'\n",
    "y=2\n",
    "print(x,y)"
   ]
  }
 ],
 "metadata": {
  "kernelspec": {
   "display_name": "Python 3 (ipykernel)",
   "language": "python",
   "name": "python3"
  },
  "language_info": {
   "codemirror_mode": {
    "name": "ipython",
    "version": 3
   },
   "file_extension": ".py",
   "mimetype": "text/x-python",
   "name": "python",
   "nbconvert_exporter": "python",
   "pygments_lexer": "ipython3",
   "version": "3.11.5"
  }
 },
 "nbformat": 4,
 "nbformat_minor": 5
}
