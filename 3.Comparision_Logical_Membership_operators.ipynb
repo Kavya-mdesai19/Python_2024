{
 "cells": [
  {
   "cell_type": "markdown",
   "id": "5082ba2c",
   "metadata": {},
   "source": [
    "# Comparision operator\n",
    "==\n",
    "!=\n",
    ">\n",
    "<\n",
    ">=\n",
    "<="
   ]
  },
  {
   "cell_type": "code",
   "execution_count": 1,
   "id": "8dec9afd",
   "metadata": {},
   "outputs": [
    {
     "data": {
      "text/plain": [
       "True"
      ]
     },
     "execution_count": 1,
     "metadata": {},
     "output_type": "execute_result"
    }
   ],
   "source": [
    "1==1"
   ]
  },
  {
   "cell_type": "code",
   "execution_count": 2,
   "id": "9665c461",
   "metadata": {},
   "outputs": [
    {
     "data": {
      "text/plain": [
       "False"
      ]
     },
     "execution_count": 2,
     "metadata": {},
     "output_type": "execute_result"
    }
   ],
   "source": [
    "1==2"
   ]
  },
  {
   "cell_type": "code",
   "execution_count": 3,
   "id": "1d045647",
   "metadata": {},
   "outputs": [
    {
     "data": {
      "text/plain": [
       "True"
      ]
     },
     "execution_count": 3,
     "metadata": {},
     "output_type": "execute_result"
    }
   ],
   "source": [
    "10!=1"
   ]
  },
  {
   "cell_type": "code",
   "execution_count": 4,
   "id": "a77b50af",
   "metadata": {},
   "outputs": [
    {
     "data": {
      "text/plain": [
       "False"
      ]
     },
     "execution_count": 4,
     "metadata": {},
     "output_type": "execute_result"
    }
   ],
   "source": [
    "10!=10"
   ]
  },
  {
   "cell_type": "code",
   "execution_count": 5,
   "id": "5e54ffa9",
   "metadata": {},
   "outputs": [
    {
     "data": {
      "text/plain": [
       "True"
      ]
     },
     "execution_count": 5,
     "metadata": {},
     "output_type": "execute_result"
    }
   ],
   "source": [
    "'a'=='a'"
   ]
  },
  {
   "cell_type": "code",
   "execution_count": 6,
   "id": "95841580",
   "metadata": {},
   "outputs": [
    {
     "data": {
      "text/plain": [
       "False"
      ]
     },
     "execution_count": 6,
     "metadata": {},
     "output_type": "execute_result"
    }
   ],
   "source": [
    "'Kavya'=='Desai'"
   ]
  },
  {
   "cell_type": "code",
   "execution_count": 7,
   "id": "3e03dde9",
   "metadata": {},
   "outputs": [
    {
     "data": {
      "text/plain": [
       "False"
      ]
     },
     "execution_count": 7,
     "metadata": {},
     "output_type": "execute_result"
    }
   ],
   "source": [
    "x='abc'\n",
    "y='xyz'\n",
    "x==y"
   ]
  },
  {
   "cell_type": "code",
   "execution_count": 10,
   "id": "2e791293",
   "metadata": {},
   "outputs": [
    {
     "data": {
      "text/plain": [
       "True"
      ]
     },
     "execution_count": 10,
     "metadata": {},
     "output_type": "execute_result"
    }
   ],
   "source": [
    "10<50"
   ]
  },
  {
   "cell_type": "code",
   "execution_count": 11,
   "id": "2d47e3ea",
   "metadata": {},
   "outputs": [
    {
     "data": {
      "text/plain": [
       "True"
      ]
     },
     "execution_count": 11,
     "metadata": {},
     "output_type": "execute_result"
    }
   ],
   "source": [
    "10<=10"
   ]
  },
  {
   "cell_type": "code",
   "execution_count": 12,
   "id": "f03c5855",
   "metadata": {},
   "outputs": [
    {
     "data": {
      "text/plain": [
       "True"
      ]
     },
     "execution_count": 12,
     "metadata": {},
     "output_type": "execute_result"
    }
   ],
   "source": [
    "10>5"
   ]
  },
  {
   "cell_type": "code",
   "execution_count": 13,
   "id": "cd0963b0",
   "metadata": {},
   "outputs": [
    {
     "data": {
      "text/plain": [
       "True"
      ]
     },
     "execution_count": 13,
     "metadata": {},
     "output_type": "execute_result"
    }
   ],
   "source": [
    "5>=5"
   ]
  },
  {
   "cell_type": "markdown",
   "id": "81a300bf",
   "metadata": {},
   "source": [
    "# Logical operators\n",
    "<-- and -->\n",
    "T and T -> T\n",
    "T and F -> F\n",
    "F and T -> F\n",
    "F and F -> F\n",
    "\n",
    "<-- or -->\n",
    "T or T -> T\n",
    "T or F -> T\n",
    "F or T -> T\n",
    "F or F -> F\n",
    "\n",
    "not\n",
    "T->F\n",
    "F->T"
   ]
  },
  {
   "cell_type": "code",
   "execution_count": 14,
   "id": "1e395f64",
   "metadata": {},
   "outputs": [
    {
     "data": {
      "text/plain": [
       "True"
      ]
     },
     "execution_count": 14,
     "metadata": {},
     "output_type": "execute_result"
    }
   ],
   "source": [
    "#and\n",
    "(10<20) and (20<30)"
   ]
  },
  {
   "cell_type": "code",
   "execution_count": 15,
   "id": "f7af4e5c",
   "metadata": {},
   "outputs": [
    {
     "data": {
      "text/plain": [
       "False"
      ]
     },
     "execution_count": 15,
     "metadata": {},
     "output_type": "execute_result"
    }
   ],
   "source": [
    "(20<10) and (30<30)"
   ]
  },
  {
   "cell_type": "code",
   "execution_count": 16,
   "id": "89e8781c",
   "metadata": {},
   "outputs": [
    {
     "data": {
      "text/plain": [
       "False"
      ]
     },
     "execution_count": 16,
     "metadata": {},
     "output_type": "execute_result"
    }
   ],
   "source": [
    "(10<10) and (30<40)"
   ]
  },
  {
   "cell_type": "code",
   "execution_count": 17,
   "id": "8ef66eb2",
   "metadata": {},
   "outputs": [
    {
     "data": {
      "text/plain": [
       "False"
      ]
     },
     "execution_count": 17,
     "metadata": {},
     "output_type": "execute_result"
    }
   ],
   "source": [
    "(20<20) and (30<30)"
   ]
  },
  {
   "cell_type": "code",
   "execution_count": 20,
   "id": "0ff069c7",
   "metadata": {},
   "outputs": [
    {
     "data": {
      "text/plain": [
       "True"
      ]
     },
     "execution_count": 20,
     "metadata": {},
     "output_type": "execute_result"
    }
   ],
   "source": [
    "('Vanilla'>'Chocolate') and (50>10)  # it'll check for ascii value of 1st letter of both strings'"
   ]
  },
  {
   "cell_type": "code",
   "execution_count": 21,
   "id": "ef557ece",
   "metadata": {},
   "outputs": [
    {
     "data": {
      "text/plain": [
       "True"
      ]
     },
     "execution_count": 21,
     "metadata": {},
     "output_type": "execute_result"
    }
   ],
   "source": [
    "#or\n",
    "(1<2) or (2>3)"
   ]
  },
  {
   "cell_type": "code",
   "execution_count": null,
   "id": "d3ebd4e4",
   "metadata": {},
   "outputs": [],
   "source": [
    "#not\n",
    "True --> False\n",
    "False --> True\n"
   ]
  },
  {
   "cell_type": "code",
   "execution_count": 22,
   "id": "acac8b13",
   "metadata": {},
   "outputs": [
    {
     "data": {
      "text/plain": [
       "False"
      ]
     },
     "execution_count": 22,
     "metadata": {},
     "output_type": "execute_result"
    }
   ],
   "source": [
    "not(10>5)"
   ]
  },
  {
   "cell_type": "markdown",
   "id": "f4e5168a",
   "metadata": {},
   "source": [
    "# Membership operators\n",
    "\n",
    "in \n",
    "not in"
   ]
  },
  {
   "cell_type": "code",
   "execution_count": 23,
   "id": "eaf217a2",
   "metadata": {},
   "outputs": [
    {
     "data": {
      "text/plain": [
       "True"
      ]
     },
     "execution_count": 23,
     "metadata": {},
     "output_type": "execute_result"
    }
   ],
   "source": [
    "name ='My name is Kavya'\n",
    "'Kavya' in name"
   ]
  },
  {
   "cell_type": "code",
   "execution_count": 24,
   "id": "5aaf5b93",
   "metadata": {},
   "outputs": [
    {
     "data": {
      "text/plain": [
       "True"
      ]
     },
     "execution_count": 24,
     "metadata": {},
     "output_type": "execute_result"
    }
   ],
   "source": [
    "'Kavya' in 'My name is Kavya'"
   ]
  },
  {
   "cell_type": "code",
   "execution_count": 27,
   "id": "b895dc6d",
   "metadata": {},
   "outputs": [
    {
     "data": {
      "text/plain": [
       "False"
      ]
     },
     "execution_count": 27,
     "metadata": {},
     "output_type": "execute_result"
    }
   ],
   "source": [
    "nums=[1,2,3,4,5]\n",
    "1 in nums"
   ]
  },
  {
   "cell_type": "code",
   "execution_count": 28,
   "id": "f9e48361",
   "metadata": {},
   "outputs": [
    {
     "data": {
      "text/plain": [
       "False"
      ]
     },
     "execution_count": 28,
     "metadata": {},
     "output_type": "execute_result"
    }
   ],
   "source": [
    "6 in nums"
   ]
  },
  {
   "cell_type": "code",
   "execution_count": 29,
   "id": "3eb58925",
   "metadata": {},
   "outputs": [
    {
     "data": {
      "text/plain": [
       "True"
      ]
     },
     "execution_count": 29,
     "metadata": {},
     "output_type": "execute_result"
    }
   ],
   "source": [
    "7 not in nums"
   ]
  },
  {
   "cell_type": "code",
   "execution_count": 30,
   "id": "da4d1f8f",
   "metadata": {},
   "outputs": [
    {
     "data": {
      "text/plain": [
       "False"
      ]
     },
     "execution_count": 30,
     "metadata": {},
     "output_type": "execute_result"
    }
   ],
   "source": [
    "x=8\n",
    "x in nums"
   ]
  },
  {
   "cell_type": "code",
   "execution_count": 31,
   "id": "b6cd1fe5",
   "metadata": {},
   "outputs": [
    {
     "data": {
      "text/plain": [
       "True"
      ]
     },
     "execution_count": 31,
     "metadata": {},
     "output_type": "execute_result"
    }
   ],
   "source": [
    "x not in nums"
   ]
  },
  {
   "cell_type": "code",
   "execution_count": null,
   "id": "ba05046a",
   "metadata": {},
   "outputs": [],
   "source": []
  },
  {
   "cell_type": "code",
   "execution_count": null,
   "id": "32ea11ca",
   "metadata": {},
   "outputs": [],
   "source": []
  },
  {
   "cell_type": "code",
   "execution_count": null,
   "id": "1ff7c618",
   "metadata": {},
   "outputs": [],
   "source": []
  },
  {
   "cell_type": "code",
   "execution_count": null,
   "id": "fc0eccfe",
   "metadata": {},
   "outputs": [],
   "source": []
  },
  {
   "cell_type": "code",
   "execution_count": null,
   "id": "c4e60b2b",
   "metadata": {},
   "outputs": [],
   "source": []
  }
 ],
 "metadata": {
  "kernelspec": {
   "display_name": "Python 3 (ipykernel)",
   "language": "python",
   "name": "python3"
  },
  "language_info": {
   "codemirror_mode": {
    "name": "ipython",
    "version": 3
   },
   "file_extension": ".py",
   "mimetype": "text/x-python",
   "name": "python",
   "nbconvert_exporter": "python",
   "pygments_lexer": "ipython3",
   "version": "3.11.5"
  }
 },
 "nbformat": 4,
 "nbformat_minor": 5
}
