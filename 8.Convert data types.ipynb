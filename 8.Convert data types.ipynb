{
 "cells": [
  {
   "cell_type": "markdown",
   "id": "025e30d4",
   "metadata": {},
   "source": [
    "# Converting data types"
   ]
  },
  {
   "cell_type": "code",
   "execution_count": 10,
   "id": "8845e715",
   "metadata": {},
   "outputs": [],
   "source": [
    "#COnverting the string to integer type"
   ]
  },
  {
   "cell_type": "code",
   "execution_count": 2,
   "id": "1dfa1c2f",
   "metadata": {},
   "outputs": [
    {
     "data": {
      "text/plain": [
       "int"
      ]
     },
     "execution_count": 2,
     "metadata": {},
     "output_type": "execute_result"
    }
   ],
   "source": [
    "num_int=7\n",
    "type(num_int)"
   ]
  },
  {
   "cell_type": "code",
   "execution_count": 3,
   "id": "268509d0",
   "metadata": {},
   "outputs": [
    {
     "data": {
      "text/plain": [
       "str"
      ]
     },
     "execution_count": 3,
     "metadata": {},
     "output_type": "execute_result"
    }
   ],
   "source": [
    "num_str='7'\n",
    "type(num_str)"
   ]
  },
  {
   "cell_type": "code",
   "execution_count": 5,
   "id": "481537c8",
   "metadata": {},
   "outputs": [],
   "source": [
    "# num_sum=num_int+num_str  TypeError: unsupported operand type(s) for +: 'int' and 'str'\n",
    "# Resolving above error"
   ]
  },
  {
   "cell_type": "code",
   "execution_count": 7,
   "id": "1edaff98",
   "metadata": {},
   "outputs": [
    {
     "data": {
      "text/plain": [
       "int"
      ]
     },
     "execution_count": 7,
     "metadata": {},
     "output_type": "execute_result"
    }
   ],
   "source": [
    "num_str_converted=int(num_int)\n",
    "type(num_str_converted)"
   ]
  },
  {
   "cell_type": "code",
   "execution_count": 9,
   "id": "1b76c626",
   "metadata": {},
   "outputs": [
    {
     "name": "stdout",
     "output_type": "stream",
     "text": [
      "14\n"
     ]
    }
   ],
   "source": [
    "num_sum=num_int+num_str_converted\n",
    "print(num_sum)"
   ]
  },
  {
   "cell_type": "code",
   "execution_count": 11,
   "id": "1972ef93",
   "metadata": {},
   "outputs": [],
   "source": [
    "#Converting list to tuple"
   ]
  },
  {
   "cell_type": "code",
   "execution_count": 12,
   "id": "e78d1ddf",
   "metadata": {},
   "outputs": [
    {
     "data": {
      "text/plain": [
       "list"
      ]
     },
     "execution_count": 12,
     "metadata": {},
     "output_type": "execute_result"
    }
   ],
   "source": [
    "list_type=[1,2,3,4]\n",
    "type(list_type)"
   ]
  },
  {
   "cell_type": "code",
   "execution_count": 13,
   "id": "b613ef99",
   "metadata": {},
   "outputs": [
    {
     "data": {
      "text/plain": [
       "(1, 2, 3, 4)"
      ]
     },
     "execution_count": 13,
     "metadata": {},
     "output_type": "execute_result"
    }
   ],
   "source": [
    "tuple(list_type)"
   ]
  },
  {
   "cell_type": "code",
   "execution_count": 14,
   "id": "61a9c868",
   "metadata": {},
   "outputs": [
    {
     "data": {
      "text/plain": [
       "list"
      ]
     },
     "execution_count": 14,
     "metadata": {},
     "output_type": "execute_result"
    }
   ],
   "source": [
    "type(list_type)"
   ]
  },
  {
   "cell_type": "code",
   "execution_count": 15,
   "id": "d240d4d3",
   "metadata": {},
   "outputs": [],
   "source": [
    "#Converting list to set"
   ]
  },
  {
   "cell_type": "code",
   "execution_count": 17,
   "id": "46ba5e9c",
   "metadata": {},
   "outputs": [
    {
     "data": {
      "text/plain": [
       "list"
      ]
     },
     "execution_count": 17,
     "metadata": {},
     "output_type": "execute_result"
    }
   ],
   "source": [
    "list_type=[1,2,3,4,2,1,3,5,4,6,4,3,2]\n",
    "type(list_type)"
   ]
  },
  {
   "cell_type": "code",
   "execution_count": 19,
   "id": "f944161b",
   "metadata": {},
   "outputs": [
    {
     "data": {
      "text/plain": [
       "{1, 2, 3, 4, 5, 6}"
      ]
     },
     "execution_count": 19,
     "metadata": {},
     "output_type": "execute_result"
    }
   ],
   "source": [
    "set(list_type)  \n",
    "#note - only unique are put it into set even though list has duplicate values"
   ]
  },
  {
   "cell_type": "code",
   "execution_count": 20,
   "id": "5bd4cf97",
   "metadata": {},
   "outputs": [
    {
     "data": {
      "text/plain": [
       "list"
      ]
     },
     "execution_count": 20,
     "metadata": {},
     "output_type": "execute_result"
    }
   ],
   "source": [
    "type(list_type)"
   ]
  },
  {
   "cell_type": "code",
   "execution_count": 21,
   "id": "5bec1c06",
   "metadata": {},
   "outputs": [],
   "source": [
    "#Converting dictionary to lists"
   ]
  },
  {
   "cell_type": "code",
   "execution_count": 23,
   "id": "e5b604a4",
   "metadata": {},
   "outputs": [],
   "source": [
    "dict_type={'name':'Kavya','gender':'Female','Country':'India'}"
   ]
  },
  {
   "cell_type": "code",
   "execution_count": 25,
   "id": "d3635ee3",
   "metadata": {},
   "outputs": [
    {
     "data": {
      "text/plain": [
       "dict"
      ]
     },
     "execution_count": 25,
     "metadata": {},
     "output_type": "execute_result"
    }
   ],
   "source": [
    "type(dict_type)"
   ]
  },
  {
   "cell_type": "code",
   "execution_count": 28,
   "id": "598fc076",
   "metadata": {},
   "outputs": [
    {
     "data": {
      "text/plain": [
       "dict_items([('name', 'Kavya'), ('gender', 'Female'), ('Country', 'India')])"
      ]
     },
     "execution_count": 28,
     "metadata": {},
     "output_type": "execute_result"
    }
   ],
   "source": [
    "dict_type.items()"
   ]
  },
  {
   "cell_type": "code",
   "execution_count": 26,
   "id": "f9555dfe",
   "metadata": {},
   "outputs": [
    {
     "data": {
      "text/plain": [
       "dict_values(['Kavya', 'Female', 'India'])"
      ]
     },
     "execution_count": 26,
     "metadata": {},
     "output_type": "execute_result"
    }
   ],
   "source": [
    "dict_type.values()"
   ]
  },
  {
   "cell_type": "code",
   "execution_count": 29,
   "id": "cfb2eff7",
   "metadata": {},
   "outputs": [
    {
     "data": {
      "text/plain": [
       "dict_keys(['name', 'gender', 'Country'])"
      ]
     },
     "execution_count": 29,
     "metadata": {},
     "output_type": "execute_result"
    }
   ],
   "source": [
    "dict_type.keys()"
   ]
  },
  {
   "cell_type": "code",
   "execution_count": 35,
   "id": "3c2630a0",
   "metadata": {},
   "outputs": [],
   "source": [
    "dict_to_list=list(dict_type.keys())"
   ]
  },
  {
   "cell_type": "code",
   "execution_count": 36,
   "id": "0bbc7fad",
   "metadata": {},
   "outputs": [
    {
     "data": {
      "text/plain": [
       "list"
      ]
     },
     "execution_count": 36,
     "metadata": {},
     "output_type": "execute_result"
    }
   ],
   "source": [
    "type(list(dict_to_list))"
   ]
  },
  {
   "cell_type": "code",
   "execution_count": null,
   "id": "77148244",
   "metadata": {},
   "outputs": [],
   "source": []
  }
 ],
 "metadata": {
  "kernelspec": {
   "display_name": "Python 3 (ipykernel)",
   "language": "python",
   "name": "python3"
  },
  "language_info": {
   "codemirror_mode": {
    "name": "ipython",
    "version": 3
   },
   "file_extension": ".py",
   "mimetype": "text/x-python",
   "name": "python",
   "nbconvert_exporter": "python",
   "pygments_lexer": "ipython3",
   "version": "3.11.5"
  }
 },
 "nbformat": 4,
 "nbformat_minor": 5
}
