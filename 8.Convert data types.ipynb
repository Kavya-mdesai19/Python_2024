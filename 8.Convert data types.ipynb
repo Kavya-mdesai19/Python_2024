{
 "cells": [
  {
   "cell_type": "markdown",
   "id": "6d71f746",
   "metadata": {},
   "source": [
    "# Converting data types"
   ]
  },
  {
   "cell_type": "code",
   "execution_count": 10,
   "id": "6f809e2f",
   "metadata": {},
   "outputs": [],
   "source": [
    "#COnverting the string to integer type"
   ]
  },
  {
   "cell_type": "code",
   "execution_count": 2,
   "id": "11317919",
   "metadata": {},
   "outputs": [
    {
     "data": {
      "text/plain": [
       "int"
      ]
     },
     "execution_count": 2,
     "metadata": {},
     "output_type": "execute_result"
    }
   ],
   "source": [
    "num_int=7\n",
    "type(num_int)"
   ]
  },
  {
   "cell_type": "code",
   "execution_count": 3,
   "id": "6f4ec29c",
   "metadata": {},
   "outputs": [
    {
     "data": {
      "text/plain": [
       "str"
      ]
     },
     "execution_count": 3,
     "metadata": {},
     "output_type": "execute_result"
    }
   ],
   "source": [
    "num_str='7'\n",
    "type(num_str)"
   ]
  },
  {
   "cell_type": "code",
   "execution_count": 5,
   "id": "d9346190",
   "metadata": {},
   "outputs": [],
   "source": [
    "# num_sum=num_int+num_str  TypeError: unsupported operand type(s) for +: 'int' and 'str'\n",
    "# Resolving above error"
   ]
  },
  {
   "cell_type": "code",
   "execution_count": 7,
   "id": "1a7807f4",
   "metadata": {},
   "outputs": [
    {
     "data": {
      "text/plain": [
       "int"
      ]
     },
     "execution_count": 7,
     "metadata": {},
     "output_type": "execute_result"
    }
   ],
   "source": [
    "num_str_converted=int(num_int)\n",
    "type(num_str_converted)"
   ]
  },
  {
   "cell_type": "code",
   "execution_count": 9,
   "id": "22c73750",
   "metadata": {},
   "outputs": [
    {
     "name": "stdout",
     "output_type": "stream",
     "text": [
      "14\n"
     ]
    }
   ],
   "source": [
    "num_sum=num_int+num_str_converted\n",
    "print(num_sum)"
   ]
  },
  {
   "cell_type": "code",
   "execution_count": 11,
   "id": "21d81d35",
   "metadata": {},
   "outputs": [],
   "source": [
    "#Converting list to tuple"
   ]
  },
  {
   "cell_type": "code",
   "execution_count": 12,
   "id": "bca27ee1",
   "metadata": {},
   "outputs": [
    {
     "data": {
      "text/plain": [
       "list"
      ]
     },
     "execution_count": 12,
     "metadata": {},
     "output_type": "execute_result"
    }
   ],
   "source": [
    "list_type=[1,2,3,4]\n",
    "type(list_type)"
   ]
  },
  {
   "cell_type": "code",
   "execution_count": 13,
   "id": "f6ec2f03",
   "metadata": {},
   "outputs": [
    {
     "data": {
      "text/plain": [
       "(1, 2, 3, 4)"
      ]
     },
     "execution_count": 13,
     "metadata": {},
     "output_type": "execute_result"
    }
   ],
   "source": [
    "tuple(list_type)"
   ]
  },
  {
   "cell_type": "code",
   "execution_count": 14,
   "id": "8619c19c",
   "metadata": {},
   "outputs": [
    {
     "data": {
      "text/plain": [
       "list"
      ]
     },
     "execution_count": 14,
     "metadata": {},
     "output_type": "execute_result"
    }
   ],
   "source": [
    "type(list_type)"
   ]
  },
  {
   "cell_type": "code",
   "execution_count": 15,
   "id": "b3e884b6",
   "metadata": {},
   "outputs": [],
   "source": [
    "#Converting list to set"
   ]
  },
  {
   "cell_type": "code",
   "execution_count": 17,
   "id": "354e3bd1",
   "metadata": {},
   "outputs": [
    {
     "data": {
      "text/plain": [
       "list"
      ]
     },
     "execution_count": 17,
     "metadata": {},
     "output_type": "execute_result"
    }
   ],
   "source": [
    "list_type=[1,2,3,4,2,1,3,5,4,6,4,3,2]\n",
    "type(list_type)"
   ]
  },
  {
   "cell_type": "code",
   "execution_count": 19,
   "id": "3787f729",
   "metadata": {},
   "outputs": [
    {
     "data": {
      "text/plain": [
       "{1, 2, 3, 4, 5, 6}"
      ]
     },
     "execution_count": 19,
     "metadata": {},
     "output_type": "execute_result"
    }
   ],
   "source": [
    "set(list_type)  \n",
    "#note - only unique are put it into set even though list has duplicate values"
   ]
  },
  {
   "cell_type": "code",
   "execution_count": 20,
   "id": "758243cc",
   "metadata": {},
   "outputs": [
    {
     "data": {
      "text/plain": [
       "list"
      ]
     },
     "execution_count": 20,
     "metadata": {},
     "output_type": "execute_result"
    }
   ],
   "source": [
    "type(list_type)"
   ]
  },
  {
   "cell_type": "code",
   "execution_count": 21,
   "id": "c6471565",
   "metadata": {},
   "outputs": [],
   "source": [
    "#Converting dictionary to lists"
   ]
  },
  {
   "cell_type": "code",
   "execution_count": 23,
   "id": "6538356a",
   "metadata": {},
   "outputs": [],
   "source": [
    "dict_type={'name':'Kavya','gender':'Female','Country':'India'}"
   ]
  },
  {
   "cell_type": "code",
   "execution_count": 25,
   "id": "8590edf6",
   "metadata": {},
   "outputs": [
    {
     "data": {
      "text/plain": [
       "dict"
      ]
     },
     "execution_count": 25,
     "metadata": {},
     "output_type": "execute_result"
    }
   ],
   "source": [
    "type(dict_type)"
   ]
  },
  {
   "cell_type": "code",
   "execution_count": 28,
   "id": "34877a5a",
   "metadata": {},
   "outputs": [
    {
     "data": {
      "text/plain": [
       "dict_items([('name', 'Kavya'), ('gender', 'Female'), ('Country', 'India')])"
      ]
     },
     "execution_count": 28,
     "metadata": {},
     "output_type": "execute_result"
    }
   ],
   "source": [
    "dict_type.items()"
   ]
  },
  {
   "cell_type": "code",
   "execution_count": 26,
   "id": "bca6db7d",
   "metadata": {},
   "outputs": [
    {
     "data": {
      "text/plain": [
       "dict_values(['Kavya', 'Female', 'India'])"
      ]
     },
     "execution_count": 26,
     "metadata": {},
     "output_type": "execute_result"
    }
   ],
   "source": [
    "dict_type.values()"
   ]
  },
  {
   "cell_type": "code",
   "execution_count": 29,
   "id": "c0b1dbd8",
   "metadata": {},
   "outputs": [
    {
     "data": {
      "text/plain": [
       "dict_keys(['name', 'gender', 'Country'])"
      ]
     },
     "execution_count": 29,
     "metadata": {},
     "output_type": "execute_result"
    }
   ],
   "source": [
    "dict_type.keys()"
   ]
  },
  {
   "cell_type": "code",
   "execution_count": 35,
   "id": "86d472c2",
   "metadata": {},
   "outputs": [],
   "source": [
    "dict_to_list=list(dict_type.keys())"
   ]
  },
  {
   "cell_type": "code",
   "execution_count": 36,
   "id": "1ca8456f",
   "metadata": {},
   "outputs": [
    {
     "data": {
      "text/plain": [
       "list"
      ]
     },
     "execution_count": 36,
     "metadata": {},
     "output_type": "execute_result"
    }
   ],
   "source": [
    "type(list(dict_to_list))"
   ]
  },
  {
   "cell_type": "code",
   "execution_count": 37,
   "id": "a7e662e9",
   "metadata": {},
   "outputs": [
    {
     "data": {
      "text/plain": [
       "list"
      ]
     },
     "execution_count": 37,
     "metadata": {},
     "output_type": "execute_result"
    }
   ],
   "source": [
    "type(list(dict_type.keys()))"
   ]
  },
  {
   "cell_type": "code",
   "execution_count": 38,
   "id": "6ac309e6",
   "metadata": {},
   "outputs": [],
   "source": [
    "#Converting long string to string"
   ]
  },
  {
   "cell_type": "code",
   "execution_count": 39,
   "id": "5ec50190",
   "metadata": {},
   "outputs": [],
   "source": [
    "long_str='I like music'"
   ]
  },
  {
   "cell_type": "code",
   "execution_count": 40,
   "id": "e07c4f2e",
   "metadata": {},
   "outputs": [
    {
     "data": {
      "text/plain": [
       "['I', ' ', 'l', 'i', 'k', 'e', ' ', 'm', 'u', 's', 'i', 'c']"
      ]
     },
     "execution_count": 40,
     "metadata": {},
     "output_type": "execute_result"
    }
   ],
   "source": [
    "list(long_str)"
   ]
  },
  {
   "cell_type": "code",
   "execution_count": 41,
   "id": "e9f0c027",
   "metadata": {},
   "outputs": [
    {
     "data": {
      "text/plain": [
       "{' ', 'I', 'c', 'e', 'i', 'k', 'l', 'm', 's', 'u'}"
      ]
     },
     "execution_count": 41,
     "metadata": {},
     "output_type": "execute_result"
    }
   ],
   "source": [
    "set(long_str)"
   ]
  }
 ],
 "metadata": {
  "kernelspec": {
   "display_name": "Python 3 (ipykernel)",
   "language": "python",
   "name": "python3"
  },
  "language_info": {
   "codemirror_mode": {
    "name": "ipython",
    "version": 3
   },
   "file_extension": ".py",
   "mimetype": "text/x-python",
   "name": "python",
   "nbconvert_exporter": "python",
   "pygments_lexer": "ipython3",
   "version": "3.11.5"
  }
 },
 "nbformat": 4,
 "nbformat_minor": 5
}
